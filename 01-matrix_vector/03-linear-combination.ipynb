{
 "cells": [
  {
   "cell_type": "code",
   "execution_count": 1,
   "id": "da5a2ef2",
   "metadata": {},
   "outputs": [
    {
     "name": "stdout",
     "output_type": "stream",
     "text": [
      "\n",
      "Equation 1:\n",
      " Matrix vw:\n",
      "[[1 2]\n",
      " [3 5]]\n",
      "\n",
      "Vectr t:\n",
      "[ 4 11]\n",
      "\n",
      "Vector is within span.\n",
      "Scalars in s: [2. 1.]\n",
      "\n",
      "Equation 1:\n",
      " Matrix vw:\n",
      "[[1 2]\n",
      " [2 4]]\n",
      "\n",
      "Vectr t:\n",
      "[ 6 12]\n",
      "\n",
      "No single solution\n",
      "Vector is NOT within span\n",
      "\n",
      "Equation 1:\n",
      " Matrix vw:\n",
      "[[1 2]\n",
      " [1 2]]\n",
      "\n",
      "Vectr t:\n",
      "[ 6 10]\n",
      "\n",
      "No single solution\n",
      "Vector is NOT within span\n"
     ]
    }
   ],
   "source": [
    "import numpy as np\n",
    "\n",
    "def check_vector_span(set_of_vectors, vector_to_check):\n",
    "    vector_of_scalars = np.asarray([None]*set_of_vectors.shape[0])\n",
    "    try:\n",
    "        vector_of_scalars = np.linalg.solve(set_of_vectors, vector_to_check)\n",
    "        if not (vector_of_scalars is None):\n",
    "            print(\"\\nVector is within span.\\nScalars in s:\", vector_of_scalars)\n",
    "    except Exception as exception_type:\n",
    "        if str(exception_type) == \"Singular matrix\":\n",
    "            print(\"\\nNo single solution\\nVector is NOT within span\")\n",
    "        else:\n",
    "            print(\"\\nUnexpected Exception Error:\", exception_type)\n",
    "    return vector_of_scalars\n",
    "\n",
    "vw = np.array([ [1,2],[3,5] ])\n",
    "t = np.array([4,11])\n",
    "print(\"\\nEquation 1:\\n Matrix vw:\", vw, \"\\nVectr t:\", t, sep=\"\\n\")\n",
    "solution = check_vector_span(vw, t)\n",
    "\n",
    "vw2 = np.array([ [1,2],[2,4] ])\n",
    "t2 = np.array([6,12])\n",
    "print(\"\\nEquation 1:\\n Matrix vw:\", vw2, \"\\nVectr t:\", t2, sep=\"\\n\")\n",
    "solution2 = check_vector_span(vw2, t2)\n",
    "\n",
    "vw3 = np.array([ [1,2],[1,2] ])\n",
    "t3 = np.array([6,10])\n",
    "print(\"\\nEquation 1:\\n Matrix vw:\", vw3, \"\\nVectr t:\", t3, sep=\"\\n\")\n",
    "solution3 = check_vector_span(vw3, t3)"
   ]
  },
  {
   "cell_type": "code",
   "execution_count": null,
   "id": "9d846c36",
   "metadata": {},
   "outputs": [],
   "source": []
  }
 ],
 "metadata": {
  "kernelspec": {
   "display_name": "Python 3 (ipykernel)",
   "language": "python",
   "name": "python3"
  },
  "language_info": {
   "codemirror_mode": {
    "name": "ipython",
    "version": 3
   },
   "file_extension": ".py",
   "mimetype": "text/x-python",
   "name": "python",
   "nbconvert_exporter": "python",
   "pygments_lexer": "ipython3",
   "version": "3.11.8"
  }
 },
 "nbformat": 4,
 "nbformat_minor": 5
}
